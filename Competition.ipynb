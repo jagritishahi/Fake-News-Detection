{
  "nbformat": 4,
  "nbformat_minor": 0,
  "metadata": {
    "colab": {
      "name": "Competition.ipynb",
      "provenance": [],
      "authorship_tag": "ABX9TyOY8JQLLI5Fm69i5gtKzd/Y",
      "include_colab_link": true
    },
    "kernelspec": {
      "name": "python3",
      "display_name": "Python 3"
    }
  },
  "cells": [
    {
      "cell_type": "markdown",
      "metadata": {
        "id": "view-in-github",
        "colab_type": "text"
      },
      "source": [
        "<a href=\"https://colab.research.google.com/github/jagritishahi/FakeNewsDetection/blob/master/Competition.ipynb\" target=\"_parent\"><img src=\"https://colab.research.google.com/assets/colab-badge.svg\" alt=\"Open In Colab\"/></a>"
      ]
    },
    {
      "cell_type": "code",
      "metadata": {
        "id": "LFgd_QXZmewR"
      },
      "source": [
        "import json\n",
        "import tensorflow as tf\n",
        "import pandas as pd\n",
        "import numpy as np\n",
        "\n",
        "from tensorflow.keras.preprocessing.text import Tokenizer\n",
        "from tensorflow.keras.preprocessing.sequence import pad_sequences\n",
        "\n",
        "# Declare variables\n",
        "vocab_size = 10000\n",
        "embedding_dim = 16\n",
        "max_length = 100\n",
        "trunc_type = 'post'\n",
        "padding_type = 'post'\n",
        "oov_tok = \"<OOV>\"\n",
        "training_size = 20000"
      ],
      "execution_count": 1,
      "outputs": []
    },
    {
      "cell_type": "markdown",
      "metadata": {
        "id": "OEXMa5iyqrAF"
      },
      "source": [
        "### **Importing and loading Dataset**"
      ]
    },
    {
      "cell_type": "code",
      "metadata": {
        "colab": {
          "base_uri": "https://localhost:8080/",
          "height": 195
        },
        "id": "vIgQ3t8xnEL0",
        "outputId": "94b170bd-a258-40f9-f27f-c3b64b2bb530"
      },
      "source": [
        "df1=pd.read_json(\"https://raw.githubusercontent.com/rishabhmisra/News-Headlines-Dataset-For-Sarcasm-Detection/master/Sarcasm_Headlines_Dataset.json\",lines=True)\n",
        "df1.head()"
      ],
      "execution_count": 2,
      "outputs": [
        {
          "output_type": "execute_result",
          "data": {
            "text/html": [
              "<div>\n",
              "<style scoped>\n",
              "    .dataframe tbody tr th:only-of-type {\n",
              "        vertical-align: middle;\n",
              "    }\n",
              "\n",
              "    .dataframe tbody tr th {\n",
              "        vertical-align: top;\n",
              "    }\n",
              "\n",
              "    .dataframe thead th {\n",
              "        text-align: right;\n",
              "    }\n",
              "</style>\n",
              "<table border=\"1\" class=\"dataframe\">\n",
              "  <thead>\n",
              "    <tr style=\"text-align: right;\">\n",
              "      <th></th>\n",
              "      <th>is_sarcastic</th>\n",
              "      <th>headline</th>\n",
              "      <th>article_link</th>\n",
              "    </tr>\n",
              "  </thead>\n",
              "  <tbody>\n",
              "    <tr>\n",
              "      <th>0</th>\n",
              "      <td>1</td>\n",
              "      <td>thirtysomething scientists unveil doomsday clo...</td>\n",
              "      <td>https://www.theonion.com/thirtysomething-scien...</td>\n",
              "    </tr>\n",
              "    <tr>\n",
              "      <th>1</th>\n",
              "      <td>0</td>\n",
              "      <td>dem rep. totally nails why congress is falling...</td>\n",
              "      <td>https://www.huffingtonpost.com/entry/donna-edw...</td>\n",
              "    </tr>\n",
              "    <tr>\n",
              "      <th>2</th>\n",
              "      <td>0</td>\n",
              "      <td>eat your veggies: 9 deliciously different recipes</td>\n",
              "      <td>https://www.huffingtonpost.com/entry/eat-your-...</td>\n",
              "    </tr>\n",
              "    <tr>\n",
              "      <th>3</th>\n",
              "      <td>1</td>\n",
              "      <td>inclement weather prevents liar from getting t...</td>\n",
              "      <td>https://local.theonion.com/inclement-weather-p...</td>\n",
              "    </tr>\n",
              "    <tr>\n",
              "      <th>4</th>\n",
              "      <td>1</td>\n",
              "      <td>mother comes pretty close to using word 'strea...</td>\n",
              "      <td>https://www.theonion.com/mother-comes-pretty-c...</td>\n",
              "    </tr>\n",
              "  </tbody>\n",
              "</table>\n",
              "</div>"
            ],
            "text/plain": [
              "   is_sarcastic  ...                                       article_link\n",
              "0             1  ...  https://www.theonion.com/thirtysomething-scien...\n",
              "1             0  ...  https://www.huffingtonpost.com/entry/donna-edw...\n",
              "2             0  ...  https://www.huffingtonpost.com/entry/eat-your-...\n",
              "3             1  ...  https://local.theonion.com/inclement-weather-p...\n",
              "4             1  ...  https://www.theonion.com/mother-comes-pretty-c...\n",
              "\n",
              "[5 rows x 3 columns]"
            ]
          },
          "metadata": {
            "tags": []
          },
          "execution_count": 2
        }
      ]
    },
    {
      "cell_type": "markdown",
      "metadata": {
        "id": "X50cbZseqyfo"
      },
      "source": [
        "### **`Splitting Dataset**"
      ]
    },
    {
      "cell_type": "code",
      "metadata": {
        "id": "cWqJesfjnU86"
      },
      "source": [
        "# Create subsets for sentences and labels\n",
        "sentences = df1.headline\n",
        "labels = df1.is_sarcastic\n",
        "# Create training subsets\n",
        "training_sentences = sentences[0:training_size]\n",
        "training_labels = labels[0:training_size]\n",
        "# Create testing subsets\n",
        "testing_sentences  = sentences[training_size:]\n",
        "testing_labels = labels[training_size:]"
      ],
      "execution_count": 4,
      "outputs": []
    },
    {
      "cell_type": "markdown",
      "metadata": {
        "id": "tKMJTR4frGrI"
      },
      "source": [
        "### **Tokenization**"
      ]
    },
    {
      "cell_type": "code",
      "metadata": {
        "id": "_seVMoH1nerH"
      },
      "source": [
        "# Initialize tokenizer\n",
        "tokenizer = Tokenizer(num_words = vocab_size, oov_token = oov_tok)\n",
        "# Fitting the training sentences\n",
        "tokenizer.fit_on_texts(training_sentences)\n",
        "# Create a words dictionary\n",
        "word_index = tokenizer.word_index"
      ],
      "execution_count": 5,
      "outputs": []
    },
    {
      "cell_type": "markdown",
      "metadata": {
        "id": "-QED5N6trXYp"
      },
      "source": [
        "### **Sequencing**"
      ]
    },
    {
      "cell_type": "code",
      "metadata": {
        "id": "FTkR6eBuni5s"
      },
      "source": [
        "# Create sequences of tokens that represent each sentence \n",
        "training_sequences = tokenizer.texts_to_sequences(training_sentences)\n",
        "testing_sequences = tokenizer.texts_to_sequences(testing_sentences)"
      ],
      "execution_count": 6,
      "outputs": []
    },
    {
      "cell_type": "markdown",
      "metadata": {
        "id": "2D24WuikrcOf"
      },
      "source": [
        "### **Padding**"
      ]
    },
    {
      "cell_type": "code",
      "metadata": {
        "id": "09EsjQHYnmP7"
      },
      "source": [
        "# Create padding sequences for training sentences \n",
        "training_padded = pad_sequences(training_sequences, maxlen = max_length, padding = padding_type, truncating = trunc_type)\n",
        "# Create padding sequences for testing sentences \n",
        "testing_padded = pad_sequences(testing_sequences, maxlen = max_length, padding = padding_type, truncating = trunc_type)"
      ],
      "execution_count": 7,
      "outputs": []
    },
    {
      "cell_type": "markdown",
      "metadata": {
        "id": "JtQUQs5CrgTP"
      },
      "source": [
        "### **Training**"
      ]
    },
    {
      "cell_type": "code",
      "metadata": {
        "id": "IUbKCjPPnp97"
      },
      "source": [
        "# Convert the sets to array to get it to work with TensorFlow 2\n",
        "training_padded = np.array(training_padded)\n",
        "training_labels = np.array(training_labels)\n",
        "\n",
        "testing_padded = np.array(testing_padded)\n",
        "testing_labels = np.array(testing_labels)"
      ],
      "execution_count": 8,
      "outputs": []
    },
    {
      "cell_type": "markdown",
      "metadata": {
        "id": "7xh8L-Hsrk6x"
      },
      "source": [
        "### **Embedding**"
      ]
    },
    {
      "cell_type": "code",
      "metadata": {
        "id": "gXvBQWr8nuO0"
      },
      "source": [
        "# Create a model\n",
        "model = tf.keras.Sequential([\n",
        "    # Embedding layer for NN                         \n",
        "    tf.keras.layers.Embedding(vocab_size, embedding_dim, input_length=max_length),\n",
        "    # Global Average pooling is similar to adding up vectors\n",
        "    tf.keras.layers.GlobalAveragePooling1D(),\n",
        "    tf.keras.layers.Dense(24, activation = 'relu'),\n",
        "    tf.keras.layers.Dense(1, activation = 'sigmoid')                             \n",
        "])\n",
        "model.compile(loss = 'binary_crossentropy', optimizer = 'adam', metrics = ['accuracy'])"
      ],
      "execution_count": 9,
      "outputs": []
    },
    {
      "cell_type": "code",
      "metadata": {
        "colab": {
          "base_uri": "https://localhost:8080/"
        },
        "id": "mNQBs0z_n9Hl",
        "outputId": "22134eb8-a43f-4fa3-8d87-827e5fd0380d"
      },
      "source": [
        "# Train the model\n",
        "epoch_num = 30\n",
        "history = model.fit(training_padded, \n",
        "                    training_labels, \n",
        "                    epochs = epoch_num, \n",
        "                    validation_data = (testing_padded, testing_labels), verbose = 2)"
      ],
      "execution_count": 11,
      "outputs": [
        {
          "output_type": "stream",
          "text": [
            "Epoch 1/30\n",
            "625/625 - 2s - loss: 0.6647 - accuracy: 0.6027 - val_loss: 0.5510 - val_accuracy: 0.7964\n",
            "Epoch 2/30\n",
            "625/625 - 2s - loss: 0.4212 - accuracy: 0.8339 - val_loss: 0.3763 - val_accuracy: 0.8369\n",
            "Epoch 3/30\n",
            "625/625 - 2s - loss: 0.3125 - accuracy: 0.8744 - val_loss: 0.3429 - val_accuracy: 0.8545\n",
            "Epoch 4/30\n",
            "625/625 - 2s - loss: 0.2619 - accuracy: 0.8974 - val_loss: 0.3353 - val_accuracy: 0.8532\n",
            "Epoch 5/30\n",
            "625/625 - 2s - loss: 0.2258 - accuracy: 0.9128 - val_loss: 0.3490 - val_accuracy: 0.8445\n",
            "Epoch 6/30\n",
            "625/625 - 2s - loss: 0.1999 - accuracy: 0.9249 - val_loss: 0.3407 - val_accuracy: 0.8557\n",
            "Epoch 7/30\n",
            "625/625 - 2s - loss: 0.1778 - accuracy: 0.9341 - val_loss: 0.3520 - val_accuracy: 0.8550\n",
            "Epoch 8/30\n",
            "625/625 - 2s - loss: 0.1611 - accuracy: 0.9416 - val_loss: 0.3943 - val_accuracy: 0.8386\n",
            "Epoch 9/30\n",
            "625/625 - 2s - loss: 0.1440 - accuracy: 0.9478 - val_loss: 0.3959 - val_accuracy: 0.8422\n",
            "Epoch 10/30\n",
            "625/625 - 2s - loss: 0.1317 - accuracy: 0.9535 - val_loss: 0.4197 - val_accuracy: 0.8387\n",
            "Epoch 11/30\n",
            "625/625 - 2s - loss: 0.1187 - accuracy: 0.9586 - val_loss: 0.4405 - val_accuracy: 0.8358\n",
            "Epoch 12/30\n",
            "625/625 - 2s - loss: 0.1114 - accuracy: 0.9609 - val_loss: 0.4532 - val_accuracy: 0.8381\n",
            "Epoch 13/30\n",
            "625/625 - 2s - loss: 0.1008 - accuracy: 0.9660 - val_loss: 0.4851 - val_accuracy: 0.8336\n",
            "Epoch 14/30\n",
            "625/625 - 2s - loss: 0.0922 - accuracy: 0.9690 - val_loss: 0.5051 - val_accuracy: 0.8326\n",
            "Epoch 15/30\n",
            "625/625 - 2s - loss: 0.0854 - accuracy: 0.9714 - val_loss: 0.5489 - val_accuracy: 0.8253\n",
            "Epoch 16/30\n",
            "625/625 - 2s - loss: 0.0786 - accuracy: 0.9750 - val_loss: 0.5823 - val_accuracy: 0.8255\n",
            "Epoch 17/30\n",
            "625/625 - 2s - loss: 0.0726 - accuracy: 0.9768 - val_loss: 0.6021 - val_accuracy: 0.8261\n",
            "Epoch 18/30\n",
            "625/625 - 2s - loss: 0.0662 - accuracy: 0.9789 - val_loss: 0.6662 - val_accuracy: 0.8211\n",
            "Epoch 19/30\n",
            "625/625 - 2s - loss: 0.0603 - accuracy: 0.9815 - val_loss: 0.6771 - val_accuracy: 0.8171\n",
            "Epoch 20/30\n",
            "625/625 - 2s - loss: 0.0569 - accuracy: 0.9827 - val_loss: 0.7199 - val_accuracy: 0.8192\n",
            "Epoch 21/30\n",
            "625/625 - 2s - loss: 0.0548 - accuracy: 0.9827 - val_loss: 0.7693 - val_accuracy: 0.8161\n",
            "Epoch 22/30\n",
            "625/625 - 2s - loss: 0.0488 - accuracy: 0.9855 - val_loss: 0.8046 - val_accuracy: 0.8161\n",
            "Epoch 23/30\n",
            "625/625 - 2s - loss: 0.0476 - accuracy: 0.9851 - val_loss: 0.8425 - val_accuracy: 0.8144\n",
            "Epoch 24/30\n",
            "625/625 - 2s - loss: 0.0415 - accuracy: 0.9883 - val_loss: 0.8495 - val_accuracy: 0.8113\n",
            "Epoch 25/30\n",
            "625/625 - 2s - loss: 0.0391 - accuracy: 0.9887 - val_loss: 0.8945 - val_accuracy: 0.8134\n",
            "Epoch 26/30\n",
            "625/625 - 2s - loss: 0.0361 - accuracy: 0.9894 - val_loss: 0.9605 - val_accuracy: 0.8122\n",
            "Epoch 27/30\n",
            "625/625 - 2s - loss: 0.0340 - accuracy: 0.9901 - val_loss: 0.9918 - val_accuracy: 0.8108\n",
            "Epoch 28/30\n",
            "625/625 - 2s - loss: 0.0307 - accuracy: 0.9915 - val_loss: 1.0054 - val_accuracy: 0.8043\n",
            "Epoch 29/30\n",
            "625/625 - 2s - loss: 0.0297 - accuracy: 0.9916 - val_loss: 1.0926 - val_accuracy: 0.8076\n",
            "Epoch 30/30\n",
            "625/625 - 2s - loss: 0.0288 - accuracy: 0.9920 - val_loss: 1.1425 - val_accuracy: 0.8066\n"
          ],
          "name": "stdout"
        }
      ]
    },
    {
      "cell_type": "markdown",
      "metadata": {
        "id": "nxQd1ZR-rxy2"
      },
      "source": [
        "### **Evaluation**"
      ]
    },
    {
      "cell_type": "code",
      "metadata": {
        "colab": {
          "base_uri": "https://localhost:8080/",
          "height": 541
        },
        "id": "wON_h1s7oBpZ",
        "outputId": "c48dfb17-4484-4f38-dd37-e88586aad0d9"
      },
      "source": [
        "import matplotlib.pyplot as plt\n",
        "\n",
        "def plot_graphs(history, string):\n",
        "  plt.plot(history.history[string])\n",
        "  plt.plot(history.history['val_'+string])\n",
        "  plt.xlabel(\"Epochs\")\n",
        "  plt.ylabel(string)\n",
        "  plt.legend([string, 'val_'+string])\n",
        "  plt.show()\n",
        "  \n",
        "plot_graphs(history, \"accuracy\")\n",
        "plot_graphs(history, \"loss\")"
      ],
      "execution_count": 12,
      "outputs": [
        {
          "output_type": "display_data",
          "data": {
            "image/png": "[encoded data removed]",
            "text/plain": [
              "<Figure size 432x288 with 1 Axes>"
            ]
          },
          "metadata": {
            "tags": [],
            "needs_background": "light"
          }
        },
        {
          "output_type": "display_data",
          "data": {
            "image/png": "[encoded data removed]",
            "text/plain": [
              "<Figure size 432x288 with 1 Axes>"
            ]
          },
          "metadata": {
            "tags": [],
            "needs_background": "light"
          }
        }
      ]
    },
    {
      "cell_type": "markdown",
      "metadata": {
        "id": "OzEWvw1Pr6An"
      },
      "source": [
        "### **Predicting sentences**"
      ]
    },
    {
      "cell_type": "code",
      "metadata": {
        "colab": {
          "base_uri": "https://localhost:8080/"
        },
        "id": "QhQpDgYooRyJ",
        "outputId": "ac9d0df9-dbcd-4e6d-c3d6-d647b95de266"
      },
      "source": [
        "new_sentences = [\n",
        "    \"If stupidity was a profession then you’d be a billionaire.\",\n",
        "                        \"Don’t talk while I am interrupting!\",\n",
        "                        \"Today is bright and sunny day\"\n",
        "]\n",
        "# Sequencing\n",
        "sequences = tokenizer.texts_to_sequences(new_sentences)\n",
        "# Padding\n",
        "padded = pad_sequences(sequences, maxlen=max_length, padding=padding_type, truncating=trunc_type)\n",
        "# Predicting\n",
        "print(np.round(model.predict(padded),3))"
      ],
      "execution_count": 17,
      "outputs": [
        {
          "output_type": "stream",
          "text": [
            "[[0.   ]\n",
            " [0.001]\n",
            " [0.003]]\n"
          ],
          "name": "stdout"
        }
      ]
    }
  ]
}